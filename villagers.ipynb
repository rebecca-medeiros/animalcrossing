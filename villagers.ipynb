{
 "cells": [
  {
   "cell_type": "code",
   "execution_count": 1,
   "metadata": {},
   "outputs": [],
   "source": [
    "import pandas as pd\n",
    "import numpy as np"
   ]
  },
  {
   "cell_type": "code",
   "execution_count": 2,
   "metadata": {},
   "outputs": [],
   "source": [
    "#abrir csv\n",
    "villagers_df = pd.read_csv(\"villagers.csv\")"
   ]
  },
  {
   "cell_type": "code",
   "execution_count": 4,
   "metadata": {},
   "outputs": [
    {
     "name": "stdout",
     "output_type": "stream",
     "text": [
      "Aqui está a lista de todos os villagers:\n",
      "          Name    Species  Gender Personality      Hobby Birthday\n",
      "0     Admiral       Bird    Male      Cranky     Nature   27-Jan\n",
      "1     Agent S   Squirrel  Female       Peppy    Fitness    2-Jul\n",
      "2       Agnes        Pig  Female  Big Sister       Play   21-Apr\n",
      "3          Al    Gorilla    Male        Lazy    Fitness   18-Oct\n",
      "4     Alfonso  Alligator    Male        Lazy       Play    9-Jun\n",
      "..        ...        ...     ...         ...        ...      ...\n",
      "386    Winnie      Horse  Female       Peppy    Fashion   31-Jan\n",
      "387  Wolfgang       Wolf    Male      Cranky  Education   25-Nov\n",
      "388      Yuka      Koala  Female      Snooty    Fashion   20-Jul\n",
      "389      Zell       Deer    Male        Smug      Music    7-Jun\n",
      "390    Zucker    Octopus    Male        Lazy     Nature    8-Mar\n",
      "\n",
      "[391 rows x 6 columns]\n"
     ]
    }
   ],
   "source": [
    "#selecionar colunas do df\n",
    "colunas_basicas = villagers_df[[\"Name\", \"Species\", \"Gender\", \"Personality\", \"Hobby\", \"Birthday\"]].copy()\n",
    "print('Aqui está a lista de todos os villagers:\\n', colunas_basicas)"
   ]
  },
  {
   "cell_type": "code",
   "execution_count": 5,
   "metadata": {},
   "outputs": [],
   "source": [
    "#substituindo o índice pelo nome dos villagers\n",
    "colunas_basicas.index = villagers_df[\"Name\"]"
   ]
  },
  {
   "cell_type": "code",
   "execution_count": 6,
   "metadata": {},
   "outputs": [
    {
     "name": "stdout",
     "output_type": "stream",
     "text": [
      "Name                 Tom\n",
      "Species              Cat\n",
      "Gender              Male\n",
      "Personality       Cranky\n",
      "Hobby          Education\n",
      "Birthday          10-Dec\n",
      "Name: Tom, dtype: object\n",
      "Agora você conhece mais sobre seu villager!\n"
     ]
    }
   ],
   "source": [
    "##Consulta Villager:\n",
    "while True:\n",
    "    villager = input(\"Qual villager você deseja visualizar? \").capitalize()\n",
    "    try:\n",
    "        if villager in colunas_basicas.index:\n",
    "            print(colunas_basicas.loc[villager])\n",
    "            print(\"Agora você conhece mais sobre seu villager!\")\n",
    "            break\n",
    "        else:\n",
    "            print(\"Villager não encontrado. Tente novamente.\")\n",
    "    except ValueError:\n",
    "        print(\"Valor informado é inválido. Por favor, tente novamente.\")"
   ]
  },
  {
   "cell_type": "code",
   "execution_count": 7,
   "metadata": {},
   "outputs": [
    {
     "name": "stdout",
     "output_type": "stream",
     "text": [
      "Sem Villagers para exibir\n",
      "Name Species Gender Personality     Hobby Birthday Favorito?\n",
      " Tom     Cat   Male      Cranky Education   10-Dec       Não\n",
      "Dora   Mouse Female      Normal Education   18-Feb       Não\n",
      "Mira  Rabbit Female  Big Sister   Fitness    6-Jul       Não\n",
      "    Name Species Gender Personality      Hobby Birthday Favorito?\n",
      "Tom  Tom     Cat   Male      Cranky  Education   10-Dec       Sim\n",
      "Name Species Gender Personality     Hobby Birthday Favorito?\n",
      " Tom     Cat   Male      Cranky Education   10-Dec       Sim\n",
      "Dora   Mouse Female      Normal Education   18-Feb       Não\n",
      "Mira  Rabbit Female  Big Sister   Fitness    6-Jul       Não\n"
     ]
    }
   ],
   "source": [
    "##Criando um df dos villagers atuais e favoritos\n",
    "\n",
    "atuais_df = pd.DataFrame(columns=[\"Name\", \"Species\", \n",
    "                                  \"Gender\", \n",
    "                                  \"Personality\", \n",
    "                                  \"Hobby\", \"Birthday\",\"Favorito?\"])\n",
    "\n",
    "try:\n",
    "  while True:\n",
    "      option = int(input('''\n",
    "    1 - Consulta Villagers Atuais\n",
    "    2 - Adicionar Villager\n",
    "    3 - Excluir Villager\n",
    "    4 - Favoritar Villager\n",
    "    5 - Exibir favoritos\n",
    "    6 - Sair\n",
    "    Informe a opção desejada:\n",
    "    \\n'''))\n",
    "      impressao = atuais_df.to_string(index=False)\n",
    "      if option == 1:\n",
    "          if atuais_df.empty == True:\n",
    "              print(\"Sem Villagers para exibir\")\n",
    "          else:\n",
    "              print(impressao)\n",
    "          continue\n",
    "      elif option == 2:\n",
    "          if atuais_df.shape[0] < 10:\n",
    "              new_villager = input(\"Temos villager novo na área! Qual o nome do novo morador? \").capitalize()\n",
    "              new = colunas_basicas.loc[new_villager]\n",
    "              novo_df = pd.DataFrame([new])\n",
    "              novo_df[\"Favorito?\"] = [\"Não\"]\n",
    "              atuais_df = pd.concat([atuais_df, novo_df], ignore_index = False)\n",
    "              #atuais_df[\"Favorito?\"] = [\"Não\"]\n",
    "              continue\n",
    "          elif atuais_df.shape[0] >= 10:\n",
    "              print(\"Ilha cheia! Limite máximo: 10 villagers\")\n",
    "              continue\n",
    "      elif option == 3:\n",
    "          remove_villager = input(\"Um morador vai embora! me fala qual o nome dele: \").capitalize()\n",
    "          atuais_df = atuais_df.drop(remove_villager)\n",
    "      elif option == 4:\n",
    "          fav = input(\"Qual villager deseja favoritar? \").capitalize()\n",
    "          atuais_df.at[fav, 'Favorito?'] = \"Sim\"\n",
    "      elif option == 5:\n",
    "          print_fav = atuais_df[atuais_df[\"Favorito?\"] == \"Sim\"]\n",
    "          print(print_fav)\n",
    "      elif option == 6:\n",
    "          break\n",
    "      else:\n",
    "        print(\"Opção inválida! Por favor, tente novamente:\")\n",
    "except ValueError:\n",
    "  print(\"Opção inválida!\")"
   ]
  },
  {
   "cell_type": "code",
   "execution_count": null,
   "metadata": {},
   "outputs": [],
   "source": []
  }
 ],
 "metadata": {
  "kernelspec": {
   "display_name": "Python 3.10.5 64-bit",
   "language": "python",
   "name": "python3"
  },
  "language_info": {
   "codemirror_mode": {
    "name": "ipython",
    "version": 3
   },
   "file_extension": ".py",
   "mimetype": "text/x-python",
   "name": "python",
   "nbconvert_exporter": "python",
   "pygments_lexer": "ipython3",
   "version": "3.10.5"
  },
  "orig_nbformat": 4,
  "vscode": {
   "interpreter": {
    "hash": "bc8cf01c5e0744173b629e941ab5d786dde8ac859fc24d3062e71e885b7b14a9"
   }
  }
 },
 "nbformat": 4,
 "nbformat_minor": 2
}
